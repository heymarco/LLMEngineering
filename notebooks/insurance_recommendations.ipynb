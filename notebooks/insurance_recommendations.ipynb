{
 "cells": [
  {
   "cell_type": "code",
   "id": "initial_id",
   "metadata": {
    "collapsed": true,
    "ExecuteTime": {
     "end_time": "2025-04-11T09:35:10.873334Z",
     "start_time": "2025-04-11T09:35:10.848891Z"
    }
   },
   "source": [
    "import os\n",
    "import json\n",
    "from dotenv import load_dotenv\n",
    "from openai import OpenAI\n",
    "import numpy as np\n",
    "import pandas as pd\n",
    "import gradio as gr\n",
    "\n",
    "load_dotenv(override=True)"
   ],
   "outputs": [
    {
     "data": {
      "text/plain": [
       "True"
      ]
     },
     "execution_count": 53,
     "metadata": {},
     "output_type": "execute_result"
    }
   ],
   "execution_count": 53
  },
  {
   "metadata": {
    "ExecuteTime": {
     "end_time": "2025-04-11T09:35:10.925237Z",
     "start_time": "2025-04-11T09:35:10.885865Z"
    }
   },
   "cell_type": "code",
   "source": [
    "openai_api_key = os.getenv(\"OPENAI_API_KEY\")\n",
    "if openai_api_key:\n",
    "    print(f\"OpenAI API Key exists and begins {openai_api_key[:8]}\")\n",
    "else:\n",
    "    print(\"OpenAI API Key not set\")\n",
    "\n",
    "MODEL = \"gpt-4o-mini\"\n",
    "openai = OpenAI()"
   ],
   "id": "a46fb48620b83340",
   "outputs": [
    {
     "name": "stdout",
     "output_type": "stream",
     "text": [
      "OpenAI API Key exists and begins sk-proj-\n"
     ]
    }
   ],
   "execution_count": 54
  },
  {
   "metadata": {
    "ExecuteTime": {
     "end_time": "2025-04-11T09:35:10.957445Z",
     "start_time": "2025-04-11T09:35:10.948105Z"
    }
   },
   "cell_type": "code",
   "source": [
    "system_message = \"You are a helpful assistant for recommending products from an insurance company. \"\n",
    "system_message += \"Give a short, friendly answers, no more than 1 sentence. \"\n",
    "system_message += \"Always be accurate. If you don't know the answer, say so and mention the reason provided to you.\"\n",
    "system_message += \"If you have found products, describe them with their name, product_id and price.\""
   ],
   "id": "e4bb2e48590d11a8",
   "outputs": [],
   "execution_count": 55
  },
  {
   "metadata": {
    "ExecuteTime": {
     "end_time": "2025-04-11T09:35:11.007246Z",
     "start_time": "2025-04-11T09:35:10.983350Z"
    }
   },
   "cell_type": "code",
   "source": [
    "n_products = 100\n",
    "\n",
    "# Description templates\n",
    "descriptions = {\n",
    "    \"car\": {\n",
    "        \"full\": [\n",
    "            \"Comprehensive car coverage including accidents and theft.\",\n",
    "            \"All-round protection for your vehicle.\",\n",
    "            \"Covers collisions, liability, and more.\"\n",
    "        ],\n",
    "        \"partial\": [\n",
    "            \"Basic car insurance for liability coverage.\",\n",
    "            \"Covers third-party damages only.\",\n",
    "            \"Affordable plan for essential coverage.\"\n",
    "        ]\n",
    "    },\n",
    "    \"healthcare\": {\n",
    "        \"full\": [\n",
    "            \"Full healthcare plan covering hospital visits and medication.\",\n",
    "            \"Complete medical protection with dental and vision included.\",\n",
    "            \"Premium healthcare for individuals and families.\"\n",
    "        ],\n",
    "        \"partial\": [\n",
    "            \"Basic medical coverage for general checkups.\",\n",
    "            \"Affordable plan covering essential health needs.\",\n",
    "            \"Partial plan for outpatient services.\"\n",
    "        ]\n",
    "    },\n",
    "    \"property\": {\n",
    "        \"full\": [\n",
    "            \"Protects your home against fire, theft, and natural disasters.\",\n",
    "            \"Comprehensive property insurance with contents cover.\",\n",
    "            \"All-in-one protection for buildings and belongings.\"\n",
    "        ],\n",
    "        \"partial\": [\n",
    "            \"Covers basic structural damages.\",\n",
    "            \"Entry-level property insurance for homeowners.\",\n",
    "            \"Partial protection plan for small incidents.\"\n",
    "        ]\n",
    "    }\n",
    "}\n",
    "\n",
    "# Generate products\n",
    "df_data = []\n",
    "\n",
    "for i in range(10):\n",
    "    price = np.random.randint(100, 200)\n",
    "    category = np.random.choice([\"car\", \"healthcare\", \"property\"])\n",
    "    insurance_type = \"full\" if price > 150 else \"partial\"\n",
    "    description = random.choice(descriptions[category][insurance_type])\n",
    "\n",
    "    # Generate a fake product URL\n",
    "    product_url = f\"https://www.exampleinsurance.com/products/{category}/{i}\"\n",
    "\n",
    "    df_data.append({\n",
    "        \"product_id\": i,\n",
    "        \"product_name\": f\"Product {i}\",\n",
    "        \"price\": price,\n",
    "        \"category\": category,\n",
    "        \"type\": insurance_type,\n",
    "        \"description\": description,\n",
    "        \"product_url\": product_url\n",
    "    })\n",
    "\n",
    "# Convert to DataFrame\n",
    "insurance_products_df = pd.DataFrame(df_data)\n",
    "\n",
    "print(insurance_products_df.head())"
   ],
   "id": "57b7c0e920719e77",
   "outputs": [
    {
     "name": "stdout",
     "output_type": "stream",
     "text": [
      "   product_id product_name  price    category     type  \\\n",
      "0           0    Product 0    162    property     full   \n",
      "1           1    Product 1    183         car     full   \n",
      "2           2    Product 2    102         car  partial   \n",
      "3           3    Product 3    163  healthcare     full   \n",
      "4           4    Product 4    163  healthcare     full   \n",
      "\n",
      "                                         description  \\\n",
      "0  All-in-one protection for buildings and belong...   \n",
      "1            Covers collisions, liability, and more.   \n",
      "2                   Covers third-party damages only.   \n",
      "3  Complete medical protection with dental and vi...   \n",
      "4   Premium healthcare for individuals and families.   \n",
      "\n",
      "                                         product_url  \n",
      "0  https://www.exampleinsurance.com/products/prop...  \n",
      "1    https://www.exampleinsurance.com/products/car/1  \n",
      "2    https://www.exampleinsurance.com/products/car/2  \n",
      "3  https://www.exampleinsurance.com/products/heal...  \n",
      "4  https://www.exampleinsurance.com/products/heal...  \n"
     ]
    }
   ],
   "execution_count": 56
  },
  {
   "metadata": {
    "ExecuteTime": {
     "end_time": "2025-04-11T09:35:11.063166Z",
     "start_time": "2025-04-11T09:35:11.052373Z"
    }
   },
   "cell_type": "code",
   "source": [
    "def get_recommendation(df: pd.DataFrame, category: str, price_limit: float = np.infty, desired_type: str = \"full\") -> pd.DataFrame:\n",
    "    # Filter by category\n",
    "    filtered_df = df[df[\"category\"] == category]\n",
    "\n",
    "    # Further filter by price\n",
    "    filtered_df = filtered_df[filtered_df[\"price\"] <= price_limit]\n",
    "\n",
    "    # Further filter by desired_type\n",
    "    filtered_df = filtered_df[filtered_df[\"type\"] == desired_type]\n",
    "\n",
    "    return filtered_df"
   ],
   "id": "f3d6a8f66efab83a",
   "outputs": [],
   "execution_count": 57
  },
  {
   "metadata": {
    "ExecuteTime": {
     "end_time": "2025-04-11T09:37:57.385672Z",
     "start_time": "2025-04-11T09:37:57.375087Z"
    }
   },
   "cell_type": "code",
   "source": [
    "recommendation_tool = {\n",
    "    \"name\": \"get_recommendation\",\n",
    "    \"description\": \"Get the recommendations for the insurance products. Call this function whenever the user asks for a product recommendation, such as 'I'm looking for a partial healthcare insurance that covers my basic needs and costs no more than $130. The function returns the entries in the database that fulfill the given criteria. If there are no entries that fulfull the criteria, give recommendations how to resolve this. E.g., you may respond with 'Try increasing your price limit'. The result are the contents of the dataframe as a dictionary. If you have already given all available information to the user, say so.\",\n",
    "    \"parameters\": {\n",
    "        \"type\": \"object\",\n",
    "        \"properties\": {\n",
    "            \"category\": {\n",
    "                \"type\": \"string\",\n",
    "                \"description\": \"The category of the insurance product. Can either be 'car', 'healthcare', or 'property'.\"\n",
    "            },\n",
    "            \"price_limit\": {\n",
    "                \"type\": \"number\",\n",
    "                \"description\": \"The maximum price of the insurance product.\"\n",
    "            },\n",
    "            \"desired_type\": {\n",
    "                \"type\": \"string\",\n",
    "                \"description\": \"The type of coverage the insurance provides. Either 'full' or 'partial'.\"\n",
    "            }\n",
    "        },\n",
    "        \"required\": [\"category\"],\n",
    "        \"additionalProperties\": False\n",
    "    }\n",
    "}\n",
    "\n",
    "tools = [{\"type\": \"function\", \"function\": recommendation_tool}]"
   ],
   "id": "ff8e385ecd5b4e3b",
   "outputs": [],
   "execution_count": 61
  },
  {
   "metadata": {
    "ExecuteTime": {
     "end_time": "2025-04-11T09:37:58.214123Z",
     "start_time": "2025-04-11T09:37:58.189242Z"
    }
   },
   "cell_type": "code",
   "source": [
    "def call_tool(message, df):\n",
    "    tool_call = message.tool_calls[0]\n",
    "    arguments = json.loads(tool_call.function.arguments)\n",
    "    category = arguments.get('category', \"healthcare\")\n",
    "    price_limit = arguments.get('price_limit', np.infty)\n",
    "    desired_type = arguments.get('desired_type', \"full\")\n",
    "    product_recommendation = get_recommendation(df, category, price_limit, desired_type)\n",
    "    response = {\n",
    "        \"role\": \"tool\",\n",
    "        \"content\": json.dumps(product_recommendation.to_dict()),\n",
    "        \"tool_call_id\": tool_call.id\n",
    "    }\n",
    "    return response, product_recommendation\n",
    "\n",
    "def chat(message, history, df, tools, model):\n",
    "    messages = [{\"role\": \"system\", \"content\": system_message}] + history + [{\"role\": \"user\", \"content\": message}]\n",
    "    response = openai.chat.completions.create(model=model, messages=messages, tools=tools)\n",
    "\n",
    "    if response.choices[0].finish_reason == \"tool_calls\":\n",
    "        message = response.choices[0].message\n",
    "        response, _ = call_tool(message, df)\n",
    "        messages.append(message)\n",
    "        messages.append(response)\n",
    "        response = openai.chat.completions.create(model=model, messages=messages)\n",
    "\n",
    "    return response.choices[0].message.content"
   ],
   "id": "ae1a7a2f84ac11ee",
   "outputs": [],
   "execution_count": 62
  },
  {
   "metadata": {
    "ExecuteTime": {
     "end_time": "2025-04-11T09:38:00.027855Z",
     "start_time": "2025-04-11T09:37:59.417188Z"
    }
   },
   "cell_type": "code",
   "source": [
    "gr.ChatInterface(fn=lambda m, h: chat(m, h, insurance_products_df, tools, MODEL),\n",
    "                 type=\"messages\").launch(show_error=True)"
   ],
   "id": "6b52c4e000dae536",
   "outputs": [
    {
     "name": "stdout",
     "output_type": "stream",
     "text": [
      "* Running on local URL:  http://127.0.0.1:7867\n",
      "\n",
      "To create a public link, set `share=True` in `launch()`.\n"
     ]
    },
    {
     "data": {
      "text/plain": [
       "<IPython.core.display.HTML object>"
      ],
      "text/html": [
       "<div><iframe src=\"http://127.0.0.1:7867/\" width=\"100%\" height=\"500\" allow=\"autoplay; camera; microphone; clipboard-read; clipboard-write;\" frameborder=\"0\" allowfullscreen></iframe></div>"
      ]
     },
     "metadata": {},
     "output_type": "display_data"
    },
    {
     "data": {
      "text/plain": []
     },
     "execution_count": 63,
     "metadata": {},
     "output_type": "execute_result"
    }
   ],
   "execution_count": 63
  },
  {
   "metadata": {
    "ExecuteTime": {
     "end_time": "2025-04-11T09:35:12.107773Z",
     "start_time": "2025-04-11T09:35:12.098419Z"
    }
   },
   "cell_type": "code",
   "source": "",
   "id": "2f8c13ff1eeb271c",
   "outputs": [],
   "execution_count": null
  },
  {
   "metadata": {
    "ExecuteTime": {
     "end_time": "2025-04-11T09:35:12.149859Z",
     "start_time": "2025-04-11T09:35:12.139291Z"
    }
   },
   "cell_type": "code",
   "source": "",
   "id": "ce59e1709dd40356",
   "outputs": [],
   "execution_count": null
  }
 ],
 "metadata": {
  "kernelspec": {
   "display_name": "Python 3",
   "language": "python",
   "name": "python3"
  },
  "language_info": {
   "codemirror_mode": {
    "name": "ipython",
    "version": 2
   },
   "file_extension": ".py",
   "mimetype": "text/x-python",
   "name": "python",
   "nbconvert_exporter": "python",
   "pygments_lexer": "ipython2",
   "version": "2.7.6"
  }
 },
 "nbformat": 4,
 "nbformat_minor": 5
}
